{
 "cells": [
  {
   "cell_type": "code",
   "execution_count": 6,
   "metadata": {},
   "outputs": [],
   "source": [
    "# Importando as bibliotecas necessárias\n",
    "import sympy as smp\n",
    "from IPython.display import display\n",
    "smp.init_printing(use_unicode=True)"
   ]
  },
  {
   "cell_type": "code",
   "execution_count": 9,
   "metadata": {},
   "outputs": [
    {
     "data": {
      "text/latex": [
       "$\\displaystyle \\left(\\frac{d}{d x} g{\\left(x \\right)} + 1\\right) \\left. \\frac{d}{d \\xi_{1}} f{\\left(\\xi_{1} \\right)} \\right|_{\\substack{ \\xi_{1}=x + g{\\left(x \\right)} }}$"
      ],
      "text/plain": [
       "⎛d           ⎞ ⎛ d        ⎞│           \n",
       "⎜──(g(x)) + 1⎟⋅⎜───(f(ξ₁))⎟│           \n",
       "⎝dx          ⎠ ⎝dξ₁       ⎠│ξ₁=x + g(x)"
      ]
     },
     "metadata": {},
     "output_type": "display_data"
    }
   ],
   "source": [
    "# Variável dependente\n",
    "x = smp.symbols(\"x\")\n",
    "# Funções dependentes\n",
    "f, g = smp.symbols(\"f g\", cls=smp.Function)\n",
    "# Definições das Funções \"anoônimas\"\n",
    "g = g(x)\n",
    "f = f(x + g)\n",
    "# Representação da Função\n",
    "display(smp.diff(f,x))"
   ]
  },
  {
   "cell_type": "code",
   "execution_count": 14,
   "metadata": {},
   "outputs": [
    {
     "data": {
      "text/latex": [
       "$\\displaystyle \\sum_{n=0}^{\\infty} 6 \\cdot 4^{- n}$"
      ],
      "text/plain": [
       "  ∞        \n",
       " ___       \n",
       " ╲         \n",
       "  ╲      -n\n",
       "  ╱   6⋅4  \n",
       " ╱         \n",
       " ‾‾‾       \n",
       "n = 0      "
      ]
     },
     "metadata": {},
     "output_type": "display_data"
    },
    {
     "data": {
      "text/latex": [
       "$\\displaystyle 8$"
      ],
      "text/plain": [
       "8"
      ]
     },
     "metadata": {},
     "output_type": "display_data"
    }
   ],
   "source": [
    "# sum of 6 / (4**n) from 0 to infinite\n",
    "n = smp.symbols('n')\n",
    "sumTerm = 6/4**n\n",
    "# Sum Expression (as above)\n",
    "sumExpression = smp.Sum(sumTerm, (n,0,smp.oo))\n",
    "display(sumExpression)\n",
    "# Performing the actual sum\n",
    "sumActual = sumExpression.doit()\n",
    "display(sumActual)\n"
   ]
  }
 ],
 "metadata": {
  "kernelspec": {
   "display_name": "env",
   "language": "python",
   "name": "python3"
  },
  "language_info": {
   "codemirror_mode": {
    "name": "ipython",
    "version": 3
   },
   "file_extension": ".py",
   "mimetype": "text/x-python",
   "name": "python",
   "nbconvert_exporter": "python",
   "pygments_lexer": "ipython3",
   "version": "3.10.5"
  },
  "orig_nbformat": 4
 },
 "nbformat": 4,
 "nbformat_minor": 2
}
