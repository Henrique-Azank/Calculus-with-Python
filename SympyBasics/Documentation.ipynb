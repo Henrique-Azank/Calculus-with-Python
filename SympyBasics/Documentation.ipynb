{
 "cells": [
  {
   "cell_type": "code",
   "execution_count": 27,
   "metadata": {},
   "outputs": [],
   "source": [
    "# Importando Sympy e Bibliotecas Auxiliares\n",
    "import sympy as smp\n",
    "import numpy as np\n",
    "\n",
    "# Definindo a forma como as expressões\n",
    "# são renderizadas no notebook\n",
    "from IPython import display\n",
    "smp.init_printing(use_unicode=True)"
   ]
  },
  {
   "cell_type": "code",
   "execution_count": 26,
   "metadata": {},
   "outputs": [
    {
     "data": {
      "image/png": "[encoded data removed]",
      "text/latex": [
       "$\\displaystyle x + 2 y$"
      ],
      "text/plain": [
       "x + 2⋅y"
      ]
     },
     "execution_count": 26,
     "metadata": {},
     "output_type": "execute_result"
    }
   ],
   "source": [
    "# Expressão com duas variáveis\n",
    "x , y = smp.symbols('x y')\n",
    "expr = x + 2*y\n",
    "expr"
   ]
  },
  {
   "cell_type": "code",
   "execution_count": 24,
   "metadata": {},
   "outputs": [
    {
     "name": "stdout",
     "output_type": "stream",
     "text": [
      "Expressão Expandida:  x**2 + 2*x*y\n",
      "Expressão Fatorada:  x*(x + 2*y)\n"
     ]
    }
   ],
   "source": [
    "# Criando expressões mais complexas \n",
    "# expandindo e refatorando\n",
    "\n",
    "# Expressão extendida\n",
    "expr_expandida = smp.expand(x*expr)\n",
    "print(\"Expressão Expandida: \", expr_expandida)\n",
    "\n",
    "# Expressão fatorada (padrão)\n",
    "expr_fatorada = smp.factor(expr_expandida)\n",
    "print(\"Expressão Fatorada: \", expr_fatorada)"
   ]
  },
  {
   "cell_type": "code",
   "execution_count": 18,
   "metadata": {},
   "outputs": [
    {
     "name": "stdout",
     "output_type": "stream",
     "text": [
      "Solução:  [-sqrt(2), sqrt(2)]\n",
      "Limite:  1\n",
      "Derivada:  exp(x)*sin(x) + exp(x)*cos(x)\n",
      "Integral:  exp(x)*sin(x)\n",
      "Integral Definida:  sqrt(2)*sqrt(pi)/2\n"
     ]
    }
   ],
   "source": [
    "# Definindo mais variáveis\n",
    "t, z, nu = smp.symbols('t z nu')\n",
    "\n",
    "# Encontrando soluções de equações de 2° grau\n",
    "sol = smp.solve(x**2 - 2, x)\n",
    "print(\"Solução: \", sol)\n",
    "\n",
    "# Encontrando o limite fundamental do seno\n",
    "lim = smp.limit(smp.sin(x)/x, x, 0)\n",
    "print(\"Limite: \", lim)\n",
    "\n",
    "# Tomando a Derivada simbólica de seno(x) * exp(x)\n",
    "deriv = smp.diff(smp.sin(x)*smp.exp(x), x)\n",
    "print(\"Derivada: \", deriv)\n",
    "\n",
    "# Integral indefinida de exp(x) * (sen(x) + cos(x))\n",
    "integr = smp.integrate(smp.exp(x)*smp.sin(x) + smp.exp(x)*smp.cos(x), x)\n",
    "print(\"Integral: \", integr)\n",
    "\n",
    "# Compurtando uma integral definida de sen(x^2)\n",
    "integr_definida = smp.integrate(smp.sin(x**2), (x, -smp.oo, smp.oo))\n",
    "print(\"Integral Definida: \", integr_definida)\n"
   ]
  },
  {
   "cell_type": "code",
   "execution_count": 28,
   "metadata": {},
   "outputs": [
    {
     "name": "stdout",
     "output_type": "stream",
     "text": [
      "[ 0.          0.84147098  0.90929743  0.14112001 -0.7568025  -0.95892427\n",
      " -0.2794155   0.6569866   0.98935825  0.41211849]\n"
     ]
    }
   ],
   "source": [
    "\n",
    "\n",
    "# Evaluating an Expression with Numpy\n",
    "# Numpy Range and X Symbol\n",
    "a = np.arange(10)\n",
    "x = smp.Symbol(\"x\")\n",
    "# Expression to Evaluate\n",
    "expr = smp.sin(x)\n",
    "f = smp.lambdify(x, expr, \"numpy\") # Transform in numpy object\n",
    "print(f(a))"
   ]
  }
 ],
 "metadata": {
  "kernelspec": {
   "display_name": "env",
   "language": "python",
   "name": "python3"
  },
  "language_info": {
   "codemirror_mode": {
    "name": "ipython",
    "version": 3
   },
   "file_extension": ".py",
   "mimetype": "text/x-python",
   "name": "python",
   "nbconvert_exporter": "python",
   "pygments_lexer": "ipython3",
   "version": "3.10.5"
  },
  "orig_nbformat": 4
 },
 "nbformat": 4,
 "nbformat_minor": 2
}
