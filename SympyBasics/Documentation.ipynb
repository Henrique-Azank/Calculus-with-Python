{
 "cells": [
  {
   "cell_type": "code",
   "execution_count": 5,
   "metadata": {},
   "outputs": [],
   "source": [
    "# Importing Sympy\n",
    "import sympy as smp\n",
    "# Definindo a forma como as expressões\n",
    "# são renderizadas no notebook\n",
    "smp.init_printing(use_unicode= True)"
   ]
  },
  {
   "cell_type": "code",
   "execution_count": 6,
   "metadata": {},
   "outputs": [
    {
     "name": "stdout",
     "output_type": "stream",
     "text": [
      "x + 2*y\n"
     ]
    }
   ],
   "source": [
    "# Expressão com duas variáveis\n",
    "x , y = smp.symbols('x y')\n",
    "expr = x + 2*y\n",
    "print(expr)"
   ]
  },
  {
   "cell_type": "code",
   "execution_count": 7,
   "metadata": {},
   "outputs": [
    {
     "name": "stdout",
     "output_type": "stream",
     "text": [
      "Expressão Expandida:  x**2 + 2*x*y\n",
      "Expressão Fatorada:  x*(x + 2*y)\n"
     ]
    }
   ],
   "source": [
    "# Criando expressões mais complexas \n",
    "# expandindo e refatorando\n",
    "\n",
    "# Expressão extendida\n",
    "expr_expandida = smp.expand(x*expr)\n",
    "print(\"Expressão Expandida: \", expr_expandida)\n",
    "\n",
    "# Expressão fatorada (padrão)\n",
    "expr_fatorada = smp.factor(expr_expandida)\n",
    "print(\"Expressão Fatorada: \", expr_fatorada)"
   ]
  },
  {
   "cell_type": "code",
   "execution_count": null,
   "metadata": {},
   "outputs": [],
   "source": [
    "# Definindo mais variáveis\n",
    "t, z, nu = smp.symbols('t z nu')\n",
    "\n",
    "# \n"
   ]
  }
 ],
 "metadata": {
  "kernelspec": {
   "display_name": "env",
   "language": "python",
   "name": "python3"
  },
  "language_info": {
   "codemirror_mode": {
    "name": "ipython",
    "version": 3
   },
   "file_extension": ".py",
   "mimetype": "text/x-python",
   "name": "python",
   "nbconvert_exporter": "python",
   "pygments_lexer": "ipython3",
   "version": "3.10.5"
  },
  "orig_nbformat": 4
 },
 "nbformat": 4,
 "nbformat_minor": 2
}
